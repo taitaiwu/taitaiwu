{
 "cells": [
  {
   "cell_type": "markdown",
   "metadata": {},
   "source": [
    "# 現代程式語言 期中專案 - 家樂福衛生紙價格比較\n",
    "第八組 111210518 陳辰鈺、111210520 吳佳泰、111210524藍健洲  \n",
    "date:10/28"
   ]
  },
  {
   "cell_type": "markdown",
   "metadata": {},
   "source": [
    "## Step1.爬取資料"
   ]
  },
  {
   "cell_type": "code",
   "execution_count": 2,
   "metadata": {},
   "outputs": [],
   "source": [
    "import requests\n",
    "from bs4 import BeautifulSoup\n",
    "import sqlite3\n",
    "\n",
    "\n",
    "list1 = []\n",
    "list2 = []\n",
    "\n",
    "url = \"https://online.carrefour.com.tw/zh/search/?q=%E6%8A%BD%E5%8F%96%20%E8%A1%9B%E7%94%9F%E7%B4%99\"\n",
    "headers = {\"User-Agent\" : \"Mozilla/5.0 (Windows NT 10.0; Win64; x64) AppleWebKit/537.36(KHTML, like Gecko) Chrome/80.0.3897.132 Safari/537.6\"}\n",
    "\n",
    "html = requests.get(url , headers=headers)\n",
    "html.encoding = \"UTF-8\"\n",
    "\n",
    "sp = BeautifulSoup(html.text , \"lxml\")\n",
    "\n",
    "data1 = sp.find_all(\"div\" , class_=\"commodity-desc\")  ##name\n",
    "data2 = sp.find_all(\"em\")  ## price\n",
    "\n"
   ]
  },
  {
   "cell_type": "markdown",
   "metadata": {},
   "source": [
    "## Step2.創建一個資料庫(tissue.db)，並將資料匯入"
   ]
  },
  {
   "cell_type": "code",
   "execution_count": null,
   "metadata": {},
   "outputs": [],
   "source": [
    "counter = 1\n",
    "\n",
    "for i in data1:\n",
    "    if (i.find(\"a\" , title=True).text == \"家樂福抽取式衛生紙FSC\" and counter == 1):\n",
    "        list1.append((i.find(\"a\" , title=True).text) + \"24入\")\n",
    "        counter += 1\n",
    "    elif (i.find(\"a\" , title=True).text == \"家樂福抽取式衛生紙FSC\" and counter == 2):\n",
    "        list1.append((i.find(\"a\" , title=True).text) + \"72入\")\n",
    "    else:\n",
    "        list1.append((i.find(\"a\" , title=True).text))\n",
    "\n",
    "for i in data2:\n",
    "    temp1 = list(i.text)\n",
    "    \n",
    "    for j in temp1:\n",
    "        if (j == \",\"):\n",
    "            temp1.remove(\",\")\n",
    "        elif (j == \"$\"):\n",
    "            temp1.remove(\"$\")\n",
    "    \n",
    "    temp2 = \"\".join(temp1)\n",
    "    temp2 = int(temp2)\n",
    "\n",
    "    list2.append(temp2)\n",
    "\n",
    "db = sqlite3.connect(\"tissue.db\")\n",
    "cursor = db.cursor()\n",
    "cursor.execute(\n",
    "    '''\n",
    "    CREATE TABLE TISSUE(\n",
    "    name    CHAR,\n",
    "    price   INT\n",
    "    )\n",
    "    '''\n",
    ")\n",
    "\n",
    "for i in range (0 , len(list1)):\n",
    "    cursor.execute(\"INSERT INTO TISSUE(name , price)  VALUES (?  , ?)\" , (list1[i] , list2[i]))\n",
    "\n",
    "db.commit()\n",
    "db.close()"
   ]
  }
 ],
 "metadata": {
  "kernelspec": {
   "display_name": "Python 3",
   "language": "python",
   "name": "python3"
  },
  "language_info": {
   "codemirror_mode": {
    "name": "ipython",
    "version": 3
   },
   "file_extension": ".py",
   "mimetype": "text/x-python",
   "name": "python",
   "nbconvert_exporter": "python",
   "pygments_lexer": "ipython3",
   "version": "3.11.7"
  }
 },
 "nbformat": 4,
 "nbformat_minor": 2
}
