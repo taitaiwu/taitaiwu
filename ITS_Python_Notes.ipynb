{
  "nbformat": 4,
  "nbformat_minor": 0,
  "metadata": {
    "colab": {
      "provenance": [],
      "authorship_tag": "ABX9TyOejUmeTBlTzVxswiU7Ws2g",
      "include_colab_link": true
    },
    "kernelspec": {
      "name": "python3",
      "display_name": "Python 3"
    },
    "language_info": {
      "name": "python"
    }
  },
  "cells": [
    {
      "cell_type": "markdown",
      "metadata": {
        "id": "view-in-github",
        "colab_type": "text"
      },
      "source": [
        "<a href=\"https://colab.research.google.com/github/taitaiwu/taitaiwu/blob/main/ITS_Python_Notes.ipynb\" target=\"_parent\"><img src=\"https://colab.research.google.com/assets/colab-badge.svg\" alt=\"Open In Colab\"/></a>"
      ]
    },
    {
      "cell_type": "markdown",
      "source": [
        "# 一、資料型態"
      ],
      "metadata": {
        "id": "I1kMM6TQvz7w"
      }
    },
    {
      "cell_type": "code",
      "execution_count": null,
      "metadata": {
        "id": "Be5aKeJ8o7Iy",
        "colab": {
          "base_uri": "https://localhost:8080/"
        },
        "outputId": "a7bd55ae-0ca3-4787-cdd0-ac8aa9554a8c"
      },
      "outputs": [
        {
          "output_type": "execute_result",
          "data": {
            "text/plain": [
              "str"
            ]
          },
          "metadata": {},
          "execution_count": 5
        }
      ],
      "source": [
        "x = 0\n",
        "y = 1\n",
        "a = b = c = 20\n",
        "age , name = 18 , \"小明\"\n",
        "\n",
        "type(name) #查詢型態類別"
      ]
    },
    {
      "cell_type": "markdown",
      "source": [
        "---\n",
        "---"
      ],
      "metadata": {
        "id": "REAQ4QTNZ00c"
      }
    },
    {
      "cell_type": "markdown",
      "source": [
        "# 二、輸出與輸入"
      ],
      "metadata": {
        "id": "WQ4IIA-1vpJK"
      }
    },
    {
      "cell_type": "markdown",
      "source": [
        "## 1. 命令"
      ],
      "metadata": {
        "id": "ZFq72BnNEWiG"
      }
    },
    {
      "cell_type": "code",
      "source": [
        "print(\"Hello World\")"
      ],
      "metadata": {
        "id": "2ZJFFaeevt8s",
        "colab": {
          "base_uri": "https://localhost:8080/"
        },
        "outputId": "b34f886f-90e0-4e28-d502-8edbc168d6f9"
      },
      "execution_count": null,
      "outputs": [
        {
          "output_type": "stream",
          "name": "stdout",
          "text": [
            "Hello World\n"
          ]
        }
      ]
    },
    {
      "cell_type": "code",
      "source": [
        "print(100 , \"多吃水果\" , True)\n",
        "print(\"100\" + \"多吃水果\" + \"True\")  #加號兩側需要一樣的形態\n",
        "print(str(100) + \"多吃水果\" + str(True))"
      ],
      "metadata": {
        "colab": {
          "base_uri": "https://localhost:8080/"
        },
        "id": "Cd_Gr2qww7YE",
        "outputId": "c2508e13-575b-481d-da9a-d4221097116c"
      },
      "execution_count": null,
      "outputs": [
        {
          "output_type": "stream",
          "name": "stdout",
          "text": [
            "100 多吃水果 True\n",
            "100多吃水果True\n",
            "100多吃水果True\n"
          ]
        }
      ]
    },
    {
      "cell_type": "markdown",
      "source": [
        "## 2. 分隔與結束"
      ],
      "metadata": {
        "id": "pkHOtuLHEqXn"
      }
    },
    {
      "cell_type": "code",
      "source": [
        "print(100 , \"多吃水果\" , True , sep=\"&\")  #sep分隔符號\n",
        "print(100 , \"多吃水果\" , True , end=\"!\\n\")  #end結束符號\n",
        "print(100 , \"多吃水果\" , True , sep=\"&\" , end=\"!\\n\")  #end和sep可以顛倒，但一定要放在print最後面\n",
        "print(100 , \"多吃水果\" , True , end=\"!\\n\" , sep=\"&\")"
      ],
      "metadata": {
        "colab": {
          "base_uri": "https://localhost:8080/"
        },
        "id": "6VkuNykkEsr8",
        "outputId": "407c5baf-398a-4869-e797-56d566c616e0"
      },
      "execution_count": null,
      "outputs": [
        {
          "output_type": "stream",
          "name": "stdout",
          "text": [
            "100&多吃水果&True\n",
            "100 多吃水果 True!\n",
            "100&多吃水果&True!\n",
            "100&多吃水果&True!\n"
          ]
        }
      ]
    },
    {
      "cell_type": "markdown",
      "source": [
        "## 3. 參數命令格式化(%系列)"
      ],
      "metadata": {
        "id": "6rJ5bchMGD1T"
      }
    },
    {
      "cell_type": "code",
      "source": [
        "print(\"%s的成績為%d\" % (\"王大山\" , 75))\n",
        "print(\"%5s的成績為%3d\" % (\"王大山\" , 75))\n",
        "print(\"%-5s的成績為%-3d\" % (\"王大山\" , 75))  #靠左對齊記得\"-\"要放在\"%\"後面\n",
        "print(\"%5s的成績為%.2f\" % (\"王大山\" , 75))\n",
        "print(\"%5s的成績為%6.2f\" % (\"王大山\" , 75))\n",
        "#%小數點前的數字代表全部的位數 e.g. %6.2f表共六位(含.和小數點後兩位)，因此小數點前有6-1-2=3位"
      ],
      "metadata": {
        "colab": {
          "base_uri": "https://localhost:8080/"
        },
        "id": "DQ3fs_TJGL9C",
        "outputId": "1811f52d-6c2d-4c80-9ce2-e52e186c156c"
      },
      "execution_count": null,
      "outputs": [
        {
          "output_type": "stream",
          "name": "stdout",
          "text": [
            "王大山的成績為75\n",
            "  王大山的成績為 75\n",
            "王大山  的成績為75 \n",
            "  王大山的成績為75.00\n",
            "  王大山的成績為 75.00\n"
          ]
        }
      ]
    },
    {
      "cell_type": "markdown",
      "source": [
        "## 4. 參數命令格式化(.format系列)"
      ],
      "metadata": {
        "id": "8ipYRXbXJhE1"
      }
    },
    {
      "cell_type": "code",
      "source": [
        "print(\"{}的成績為{}\".format (\"王大山\" , 75))\n",
        "print(\"{0}的成績為{1}\".format (\"王大山\" , 75))\n",
        "print(\"{1}的成績為{0}\".format (75 , \"王大山\"))\n",
        "print(\"{:5s}的成績為{:.2f}\".format (\"王大山\" , 75))  #{序列:格式} (序列沒寫就是預設按照順序)\n",
        "print(\"{0:5s}的成績為{1:7.2f}\".format (\"王大山\" , 75))  #文字預設靠左，數字預設靠右\n",
        "print(\"{0:<5s}的成績為{1:<7.2f}\".format (\"王大山\" , 75))  #文字靠左用<\n",
        "print(\"{0:>5s}的成績為{1:>7.2f}\".format (\"王大山\" , 75))  #文字靠右用>\n",
        "print(\"{0:^5s}的成績為{1:^7.2f}\".format (\"王大山\" , 75))  #文字置中用^"
      ],
      "metadata": {
        "colab": {
          "base_uri": "https://localhost:8080/"
        },
        "id": "NCwqvB2YKyy3",
        "outputId": "0bcda9be-8be0-4227-c43a-dbb4bd6fe1ef"
      },
      "execution_count": null,
      "outputs": [
        {
          "output_type": "stream",
          "name": "stdout",
          "text": [
            "王大山的成績為75\n",
            "王大山的成績為75\n",
            "王大山的成績為75\n",
            "王大山  的成績為75.00\n",
            "王大山  的成績為  75.00\n",
            "王大山  的成績為75.00  \n",
            "  王大山的成績為  75.00\n",
            " 王大山 的成績為 75.00 \n"
          ]
        }
      ]
    },
    {
      "cell_type": "markdown",
      "source": [
        "## 5. 參數命令格式化(f系列)"
      ],
      "metadata": {
        "id": "wlQD960MRNLG"
      }
    },
    {
      "cell_type": "code",
      "source": [
        "name = \"王大山\"\n",
        "score  = 75\n",
        "\n",
        "print(f\"{name}的成績為{score}\")"
      ],
      "metadata": {
        "colab": {
          "base_uri": "https://localhost:8080/"
        },
        "id": "5VS_ChGqRaae",
        "outputId": "c72851ca-bb4a-49ef-a1e7-200fde67c16b"
      },
      "execution_count": null,
      "outputs": [
        {
          "output_type": "stream",
          "name": "stdout",
          "text": [
            "王大山的成績為75\n"
          ]
        }
      ]
    },
    {
      "cell_type": "markdown",
      "source": [
        "---"
      ],
      "metadata": {
        "id": "5cpG-GxtSQcT"
      }
    },
    {
      "cell_type": "markdown",
      "source": [
        "## 6. 輸入(Input)"
      ],
      "metadata": {
        "id": "wqzPpeYGSCz1"
      }
    },
    {
      "cell_type": "code",
      "source": [
        "9chin = input(\"請輸入您的國文成績...\")\n",
        "\n",
        "print(f\"您的國文成績為:{chin}分\")"
      ],
      "metadata": {
        "colab": {
          "base_uri": "https://localhost:8080/"
        },
        "id": "Px2tcb5MSSrS",
        "outputId": "2703d198-e22b-4a86-c5e9-228540000e3a"
      },
      "execution_count": null,
      "outputs": [
        {
          "output_type": "stream",
          "name": "stdout",
          "text": [
            "請輸入您的國文成績...100\n",
            "您的國文成績為:100分\n"
          ]
        }
      ]
    },
    {
      "cell_type": "markdown",
      "source": [
        "### **例題一** : 讓使用者輸入國英數三科成績，求總分和平均"
      ],
      "metadata": {
        "id": "yD6oi6NyYG0v"
      }
    },
    {
      "cell_type": "code",
      "source": [
        "chin = int(input(\"請輸入您的國文成績...\"))\n",
        "eng = int(input(\"請輸入您的英文成績...\"))\n",
        "math = int(input(\"請輸入您的英文成績...\"))\n",
        "\n",
        "total = chin + eng + math\n",
        "ava = total/3\n",
        "\n",
        "print(f\"您的總分為{total}分;平均為{ava}分\")"
      ],
      "metadata": {
        "colab": {
          "base_uri": "https://localhost:8080/"
        },
        "id": "x3TG0Cn2TOuJ",
        "outputId": "4ad85331-652b-46f5-98eb-b39439aa4ed3"
      },
      "execution_count": null,
      "outputs": [
        {
          "output_type": "stream",
          "name": "stdout",
          "text": [
            "請輸入您的國文成績...95\n",
            "請輸入您的英文成績...96\n",
            "請輸入您的英文成績...97\n",
            "您的總分為288分;平均為96.0分\n"
          ]
        }
      ]
    },
    {
      "cell_type": "markdown",
      "source": [
        "### **例題二** : 讓使用者輸入身高及體重，求BMI"
      ],
      "metadata": {
        "id": "Nw2-U4rkYopI"
      }
    },
    {
      "cell_type": "code",
      "source": [
        "height = float(input(\"請輸入您的身高(公分):\"))\n",
        "weight = float(input(\"請輸入您的體重(公斤):\"))\n",
        "\n",
        "BMI = weight / ((height/100)**2)\n",
        "\n",
        "print(f\"您的身高為{height}公分;體重為{weight}公斤;BMI={BMI:.2f}\")"
      ],
      "metadata": {
        "colab": {
          "base_uri": "https://localhost:8080/"
        },
        "id": "zEwtc1EpWdcs",
        "outputId": "af0f1cb3-9ef5-4241-8abb-d6149f931a22"
      },
      "execution_count": null,
      "outputs": [
        {
          "output_type": "stream",
          "name": "stdout",
          "text": [
            "請輸入您的身高(公分):184\n",
            "請輸入您的體重(公斤):52\n",
            "您的身高為184.0公分;體重為52.0公斤;BMI=15.36\n"
          ]
        }
      ]
    },
    {
      "cell_type": "markdown",
      "source": [
        "---\n",
        "---"
      ],
      "metadata": {
        "id": "mrH0s4vkZwH8"
      }
    },
    {
      "cell_type": "markdown",
      "source": [
        "# 三、判斷式"
      ],
      "metadata": {
        "id": "_YIiMm9we_b-"
      }
    },
    {
      "cell_type": "markdown",
      "source": [
        "## 1. 單向判斷式"
      ],
      "metadata": {
        "id": "NH0EEyvvfuMY"
      }
    },
    {
      "cell_type": "code",
      "source": [
        "score = int(input(\"請輸入總平均:\"))\n",
        "\n",
        "if (score >= 60):\n",
        "    print(\"及格\")"
      ],
      "metadata": {
        "colab": {
          "base_uri": "https://localhost:8080/"
        },
        "id": "nkkFFYq7fNSP",
        "outputId": "51c98d64-d6d8-41c7-836b-16d5929fe145"
      },
      "execution_count": null,
      "outputs": [
        {
          "name": "stdout",
          "output_type": "stream",
          "text": [
            "請輸入總平均50\n"
          ]
        }
      ]
    },
    {
      "cell_type": "markdown",
      "source": [
        "## 2. 雙向判段式"
      ],
      "metadata": {
        "id": "lNnknTXefzaH"
      }
    },
    {
      "cell_type": "code",
      "source": [
        "score = int(input(\"請輸入總平均:\"))\n",
        "\n",
        "if (score >= 60):\n",
        "    print(\"及格\")\n",
        "else:\n",
        "    print(\"不及格\")"
      ],
      "metadata": {
        "colab": {
          "base_uri": "https://localhost:8080/"
        },
        "id": "Zevh2I_BfqiU",
        "outputId": "b0a6ee75-6bbf-4239-e098-48c962ffa69b"
      },
      "execution_count": null,
      "outputs": [
        {
          "output_type": "stream",
          "name": "stdout",
          "text": [
            "請輸入總平均:50\n",
            "不及格\n"
          ]
        }
      ]
    },
    {
      "cell_type": "markdown",
      "source": [
        "## 3. 多向判斷式"
      ],
      "metadata": {
        "id": "0ZyJCl10gw3l"
      }
    },
    {
      "cell_type": "code",
      "source": [
        "score = int(input(\"請輸入總平均:\"))\n",
        "\n",
        "if (score >= 80):\n",
        "    print(\"優等\")\n",
        "elif (score >= 60):\n",
        "    print(\"及格\")\n",
        "else:\n",
        "    print(\"不及格\")"
      ],
      "metadata": {
        "colab": {
          "base_uri": "https://localhost:8080/"
        },
        "id": "GekBs00xhKN5",
        "outputId": "9128e472-87fd-49f9-87b3-8b034a8e18c0"
      },
      "execution_count": null,
      "outputs": [
        {
          "output_type": "stream",
          "name": "stdout",
          "text": [
            "請輸入總平均:70\n",
            "及格\n"
          ]
        }
      ]
    },
    {
      "cell_type": "markdown",
      "source": [
        "### **例題一** : 詢問使用者身高體重，並分析其BMI值為過輕、標準或超重"
      ],
      "metadata": {
        "id": "GAMRDZFlWwNZ"
      }
    },
    {
      "cell_type": "code",
      "source": [
        "height = float(input(\"請輸入您的身高(公分):\"))\n",
        "weight = float(input(\"請輸入您的體重(公斤):\"))\n",
        "\n",
        "BMI = round(weight / ((height/100)**2),2)  #可以用round來控制小數點位數，樣式:round(數字，小數點後位數)\n",
        "\n",
        "if (BMI < 18.5):\n",
        "    print(\"您的BMI為\" + str(BMI) + \"\\n結果為:過輕\")\n",
        "elif (BMI >= 18.5 and BMI <= 24):\n",
        "    print(\"您的BMI為\" + str(BMI) + \"\\n結果為:標準\")\n",
        "else:\n",
        "    print(\"您的BMI為\" + str(BMI) + \"\\n結果為:超重\")"
      ],
      "metadata": {
        "colab": {
          "base_uri": "https://localhost:8080/"
        },
        "id": "c6hFYrO6XHYD",
        "outputId": "91ac7395-e8d2-4757-a545-3d8db99a6f73"
      },
      "execution_count": null,
      "outputs": [
        {
          "output_type": "stream",
          "name": "stdout",
          "text": [
            "請輸入您的身高(公分):184\n",
            "請輸入您的體重(公斤):52\n",
            "您的BMI為15.36\n",
            "結果為:過輕\n"
          ]
        }
      ]
    },
    {
      "cell_type": "markdown",
      "source": [
        "### **例題二** : 請使用者輸入整數後，判斷該數為奇數或是偶數"
      ],
      "metadata": {
        "id": "iIh8Oy6WXtNI"
      }
    },
    {
      "cell_type": "code",
      "source": [
        "num = int(input(\"請輸入一個整數:\"))\n",
        "\n",
        "if (num % 2 == 0):\n",
        "    print(str(num)+\"是偶數\")\n",
        "else:\n",
        "    print(str(num)+\"是奇數\")"
      ],
      "metadata": {
        "colab": {
          "base_uri": "https://localhost:8080/"
        },
        "id": "4qoagaTLX8wR",
        "outputId": "6f38f8a1-b994-4a03-e4de-7e19c3c2d266"
      },
      "execution_count": null,
      "outputs": [
        {
          "output_type": "stream",
          "name": "stdout",
          "text": [
            "請輸入一個整數:98\n",
            "98是偶數\n"
          ]
        }
      ]
    },
    {
      "cell_type": "markdown",
      "source": [
        "### **例題三** : 使用者輸入西元年後，判斷該年是否閏年"
      ],
      "metadata": {
        "id": "oR2_vs22YcHP"
      }
    },
    {
      "cell_type": "code",
      "source": [
        "year = int(input(\"請輸入西元年:\"))\n",
        "\n",
        "if (year % 100 == 0):\n",
        "    if (year % 400 == 0):\n",
        "        print(str(year)+\"為閏年\")\n",
        "    else:\n",
        "        print(str(year)+\"為平年\")\n",
        "else:\n",
        "    if (year % 4 == 0):\n",
        "        print(str(year)+\"為閏年\")\n",
        "    else:\n",
        "        print(str(year)+\"為平年\")"
      ],
      "metadata": {
        "colab": {
          "base_uri": "https://localhost:8080/"
        },
        "id": "2djtq6PAYzHI",
        "outputId": "965630c0-2ebc-4e21-9328-5ed8ce7f66d1"
      },
      "execution_count": null,
      "outputs": [
        {
          "output_type": "stream",
          "name": "stdout",
          "text": [
            "請輸入西元年:2023\n",
            "2023為平年\n"
          ]
        }
      ]
    },
    {
      "cell_type": "markdown",
      "source": [
        "---\n",
        "---"
      ],
      "metadata": {
        "id": "VSMokxrHlyvU"
      }
    },
    {
      "cell_type": "markdown",
      "source": [
        "# 四、串列"
      ],
      "metadata": {
        "id": "46YfI8gbl0s1"
      }
    },
    {
      "cell_type": "markdown",
      "source": [
        "## 1. 串列\n",
        "格式 list[初始值:終止值:間隔值]"
      ],
      "metadata": {
        "id": "1JBSSLlTskOL"
      }
    },
    {
      "cell_type": "code",
      "source": [
        "list1 = [1,2,3,4,5,6,7,8,9]\n",
        "\n",
        "#可以藉由索引值來尋找資料，記得索引值是從0開始\n",
        "print(list1[0])\n",
        "print(list1[1])\n",
        "\n",
        "#可以提取索引值尋找a~(b-1)筆的資料，a和b要用:隔開(list1[a:b])\n",
        "print(list1[0:4])\n",
        "print(list1[:4])  #0可省略不寫\n",
        "print(list1[:])  #:前後都省略不寫時，表取全部資料\n",
        "\n",
        "#加上-表示從後面數回來，例-1表最後一筆資料\n",
        "print(list1[-1])\n",
        "print(list1[-3])\n",
        "\n",
        "#提取倒數第a筆資料到倒數第b筆資料時，要將索引值將前面的人放前面,格式如list1[-b:-a]\n",
        "print(list1[-6:-2])\n",
        "print(list1[-7:-1])\n",
        "print(list1[-5:])  #:後面省略時，自動取到最後一筆資料\n",
        "\n",
        "#可在最後加上間隔值\n",
        "print(list1[0:7:2])\n",
        "print(list1[::2])  #可以只寫間隔值\n",
        "print(list1[::-2])  #間隔值為附表從最後面數回來"
      ],
      "metadata": {
        "colab": {
          "base_uri": "https://localhost:8080/"
        },
        "id": "0AT4JRHPpHpL",
        "outputId": "1971e97b-d9fd-43b1-bba1-952b14c2c17d"
      },
      "execution_count": null,
      "outputs": [
        {
          "output_type": "stream",
          "name": "stdout",
          "text": [
            "1\n",
            "2\n",
            "[1, 2, 3, 4]\n",
            "[1, 2, 3, 4]\n",
            "[1, 2, 3, 4, 5, 6, 7, 8, 9]\n",
            "9\n",
            "7\n",
            "[4, 5, 6, 7]\n",
            "[3, 4, 5, 6, 7, 8]\n",
            "[5, 6, 7, 8, 9]\n",
            "[1, 3, 5, 7]\n",
            "[1, 3, 5, 7, 9]\n",
            "[9, 7, 5, 3, 1]\n"
          ]
        }
      ]
    },
    {
      "cell_type": "markdown",
      "source": [
        "## 2. 整數串列"
      ],
      "metadata": {
        "id": "FZQEftYzw8FI"
      }
    },
    {
      "cell_type": "code",
      "source": [
        "list2 = list(range(5))\n",
        "print(list2)\n",
        "list(range(10))\n",
        "list(range(3,8))\n",
        "list(range(3,8,2))\n",
        "list(range(8,3,-2))"
      ],
      "metadata": {
        "colab": {
          "base_uri": "https://localhost:8080/"
        },
        "id": "nK-dUTEAxMbf",
        "outputId": "18e9bebd-a7f9-459e-f5b9-2ef1d606de60"
      },
      "execution_count": null,
      "outputs": [
        {
          "output_type": "stream",
          "name": "stdout",
          "text": [
            "[0, 1, 2, 3, 4]\n"
          ]
        },
        {
          "output_type": "execute_result",
          "data": {
            "text/plain": [
              "[8, 6, 4]"
            ]
          },
          "metadata": {},
          "execution_count": 35
        }
      ]
    },
    {
      "cell_type": "markdown",
      "source": [
        "## 3. 串列資料的其他應用"
      ],
      "metadata": {
        "id": "dd2tQDAORbbb"
      }
    },
    {
      "cell_type": "markdown",
      "source": [
        "### ( 1 ) len : 求串列長度"
      ],
      "metadata": {
        "id": "sNnnhX_QSJJK"
      }
    },
    {
      "cell_type": "code",
      "source": [],
      "metadata": {
        "id": "e12XjM0xTEwW"
      },
      "execution_count": null,
      "outputs": []
    },
    {
      "cell_type": "code",
      "source": [
        "x = [34,56,98,74,85,41]\n",
        "\n",
        "print(len(x))"
      ],
      "metadata": {
        "colab": {
          "base_uri": "https://localhost:8080/"
        },
        "id": "DYJ8y1QhRkNV",
        "outputId": "e175e7f8-8edc-4fd9-dcc5-6885c45343a3"
      },
      "execution_count": null,
      "outputs": [
        {
          "output_type": "stream",
          "name": "stdout",
          "text": [
            "6\n"
          ]
        }
      ]
    },
    {
      "cell_type": "markdown",
      "source": [
        "### ( 2 ) append : 在串列中增加一個數"
      ],
      "metadata": {
        "id": "3wSZYnvwSUUX"
      }
    },
    {
      "cell_type": "code",
      "source": [
        "x = [34,56,98,74,85,41]\n",
        "\n",
        "x.append(101)\n",
        "print(x)"
      ],
      "metadata": {
        "colab": {
          "base_uri": "https://localhost:8080/"
        },
        "id": "LJSsAtNXStkM",
        "outputId": "38417d2e-9f00-44c8-81d2-cd7b4e742191"
      },
      "execution_count": null,
      "outputs": [
        {
          "output_type": "stream",
          "name": "stdout",
          "text": [
            "[34, 56, 98, 74, 85, 41, 101]\n"
          ]
        }
      ]
    },
    {
      "cell_type": "markdown",
      "source": [
        "### ( 3 ) insert : 在串列中插入一個數"
      ],
      "metadata": {
        "id": "7ZHZYCGHS6Ya"
      }
    },
    {
      "cell_type": "code",
      "source": [
        "x = [34,56,98,74,85,41]\n",
        "\n",
        "x.insert(2,101)\n",
        "print(x)"
      ],
      "metadata": {
        "colab": {
          "base_uri": "https://localhost:8080/"
        },
        "id": "TNP7gI0ETNZR",
        "outputId": "18c43530-e99b-4c99-aedf-3bd3201cf7c1"
      },
      "execution_count": null,
      "outputs": [
        {
          "output_type": "stream",
          "name": "stdout",
          "text": [
            "[34, 56, 101, 98, 74, 85, 41]\n"
          ]
        }
      ]
    },
    {
      "cell_type": "markdown",
      "source": [
        "### ( 4 ) pop : 在串列中刪除最後一個元素"
      ],
      "metadata": {
        "id": "Z0rm9NhcTQZG"
      }
    },
    {
      "cell_type": "code",
      "source": [
        "x = [34,56,98,74,85,41]\n",
        "\n",
        "x.pop()\n",
        "print(x)"
      ],
      "metadata": {
        "colab": {
          "base_uri": "https://localhost:8080/"
        },
        "id": "z0BuNvmzTboV",
        "outputId": "fd0e002e-4b09-4f0e-c5a9-05fd0eebb039"
      },
      "execution_count": null,
      "outputs": [
        {
          "output_type": "stream",
          "name": "stdout",
          "text": [
            "[34, 56, 98, 74, 85]\n"
          ]
        }
      ]
    },
    {
      "cell_type": "markdown",
      "source": [
        "### ( 5 ) remove : 在串列中刪除一個元素"
      ],
      "metadata": {
        "id": "KwBiO-JyTfQH"
      }
    },
    {
      "cell_type": "code",
      "source": [
        "x = [34,56,98,74,85,41]\n",
        "\n",
        "x.remove(98)\n",
        "print(x)"
      ],
      "metadata": {
        "colab": {
          "base_uri": "https://localhost:8080/"
        },
        "id": "hYDK8TWITqIw",
        "outputId": "37427b0a-f6fb-473b-b950-d77d99637382"
      },
      "execution_count": null,
      "outputs": [
        {
          "output_type": "stream",
          "name": "stdout",
          "text": [
            "[34, 56, 74, 85, 41]\n"
          ]
        }
      ]
    },
    {
      "cell_type": "markdown",
      "source": [
        "### ( 6 ) sort : 將串列遞增排序"
      ],
      "metadata": {
        "id": "B1Wb8tqQTwBS"
      }
    },
    {
      "cell_type": "code",
      "source": [
        "x = [34,56,98,74,85,41]\n",
        "\n",
        "x.sort()\n",
        "print(x)"
      ],
      "metadata": {
        "colab": {
          "base_uri": "https://localhost:8080/"
        },
        "id": "_hynU5a_T8Oy",
        "outputId": "3ff9a560-09d2-4608-a605-1492ecd91be6"
      },
      "execution_count": null,
      "outputs": [
        {
          "output_type": "stream",
          "name": "stdout",
          "text": [
            "[34, 41, 56, 74, 85, 98]\n"
          ]
        }
      ]
    },
    {
      "cell_type": "markdown",
      "source": [
        "### ( 7 ) reverse : 將串列排序顛倒"
      ],
      "metadata": {
        "id": "kDBDNGSYUAIN"
      }
    },
    {
      "cell_type": "code",
      "source": [
        "x = [34,56,98,74,85,41]\n",
        "\n",
        "x.reverse()\n",
        "print(x)"
      ],
      "metadata": {
        "colab": {
          "base_uri": "https://localhost:8080/"
        },
        "id": "V2EhbRqkUIUv",
        "outputId": "92a4cfc8-376b-4697-940f-0209b9b1f115"
      },
      "execution_count": null,
      "outputs": [
        {
          "output_type": "stream",
          "name": "stdout",
          "text": [
            "[41, 85, 74, 98, 56, 34]\n"
          ]
        }
      ]
    },
    {
      "cell_type": "markdown",
      "source": [
        "* **註**:若要將串列遞減排序，需先使用sort再用reverse"
      ],
      "metadata": {
        "id": "g2-MCOThUQz9"
      }
    },
    {
      "cell_type": "code",
      "source": [
        "x = [34,56,98,74,85,41]\n",
        "\n",
        "x.sort()\n",
        "x.reverse()\n",
        "print(x)"
      ],
      "metadata": {
        "id": "7ty3zjboUftm",
        "outputId": "6ab37b80-47fc-41a2-8f52-151942ae96f6",
        "colab": {
          "base_uri": "https://localhost:8080/"
        }
      },
      "execution_count": null,
      "outputs": [
        {
          "output_type": "stream",
          "name": "stdout",
          "text": [
            "[98, 85, 74, 56, 41, 34]\n"
          ]
        }
      ]
    },
    {
      "cell_type": "markdown",
      "source": [
        "---\n",
        "---"
      ],
      "metadata": {
        "id": "7KAcoGIWyQeN"
      }
    },
    {
      "cell_type": "markdown",
      "source": [
        "# 五、迴圈"
      ],
      "metadata": {
        "id": "yq2qL1dDyKfh"
      }
    },
    {
      "cell_type": "markdown",
      "source": [
        "## 1.for迴圈\n",
        "用於執行固定次數之迴圈"
      ],
      "metadata": {
        "id": "HfSqnrPKyToq"
      }
    },
    {
      "cell_type": "code",
      "source": [
        "list3 = [\"香蕉\",\"蘋果\",\"橘子\"]\n",
        "\n",
        "for fruit in list3:\n",
        "    print(fruit)"
      ],
      "metadata": {
        "colab": {
          "base_uri": "https://localhost:8080/"
        },
        "id": "_hPT4GdqzBye",
        "outputId": "7181c6e5-94b7-45d6-89eb-076b4f62177c"
      },
      "execution_count": null,
      "outputs": [
        {
          "output_type": "stream",
          "name": "stdout",
          "text": [
            "香蕉\n",
            "蘋果\n",
            "橘子\n"
          ]
        }
      ]
    },
    {
      "cell_type": "code",
      "source": [
        "list3 = [\"香蕉\",\"蘋果\",\"橘子\"]\n",
        "\n",
        "for fruit in list3:\n",
        "    print(fruit,end=\" \")"
      ],
      "metadata": {
        "colab": {
          "base_uri": "https://localhost:8080/"
        },
        "id": "ZJiAPDVy0cxz",
        "outputId": "cae580ea-72b4-4c2b-dc38-c2a5007b9fb4"
      },
      "execution_count": null,
      "outputs": [
        {
          "output_type": "stream",
          "name": "stdout",
          "text": [
            "香蕉 蘋果 橘子 "
          ]
        }
      ]
    },
    {
      "cell_type": "markdown",
      "source": [
        "### **例題一** : 請用for迴圈寫出1加到10的總和(逐行顯示加總歷程)"
      ],
      "metadata": {
        "id": "V2L_gALj1tIM"
      }
    },
    {
      "cell_type": "code",
      "source": [
        "total = 0\n",
        "\n",
        "for i in range(1,11):\n",
        "    total += i\n",
        "    print(total)"
      ],
      "metadata": {
        "colab": {
          "base_uri": "https://localhost:8080/"
        },
        "id": "5KaQvx7F2Beg",
        "outputId": "b5f119b6-5fea-40d0-a07d-9d13af2d789c"
      },
      "execution_count": null,
      "outputs": [
        {
          "output_type": "stream",
          "name": "stdout",
          "text": [
            "1\n",
            "3\n",
            "6\n",
            "10\n",
            "15\n",
            "21\n",
            "28\n",
            "36\n",
            "45\n",
            "55\n"
          ]
        }
      ]
    },
    {
      "cell_type": "markdown",
      "source": [
        "### **例題二** : 請用for迴圈寫出1加到10的總和(在同一行顯示加總歷程，中間用空格隔開)"
      ],
      "metadata": {
        "id": "GquAs2O-3w1K"
      }
    },
    {
      "cell_type": "code",
      "source": [
        "total = 0\n",
        "\n",
        "for i in range(1,11):\n",
        "    total += i\n",
        "    print(total,end=\" \")"
      ],
      "metadata": {
        "colab": {
          "base_uri": "https://localhost:8080/"
        },
        "id": "BkrGW2ZT3wV-",
        "outputId": "a327e7f9-bb68-4f3c-f067-7cba9be3e06f"
      },
      "execution_count": null,
      "outputs": [
        {
          "output_type": "stream",
          "name": "stdout",
          "text": [
            "1 3 6 10 15 21 28 36 45 55 "
          ]
        }
      ]
    },
    {
      "cell_type": "markdown",
      "source": [
        "### **例題三** : 請用for迴圈寫出1加到10的總和(直接顯示結果)"
      ],
      "metadata": {
        "id": "tJLS1FNx58ir"
      }
    },
    {
      "cell_type": "code",
      "source": [
        "total = 0\n",
        "\n",
        "for i in range(1,11):\n",
        "    total += i\n",
        "\n",
        "print(total,end=\" \")"
      ],
      "metadata": {
        "colab": {
          "base_uri": "https://localhost:8080/"
        },
        "id": "bz-MKDzu6CnN",
        "outputId": "778e5bff-57c9-423a-d715-f39e38952ae1"
      },
      "execution_count": null,
      "outputs": [
        {
          "output_type": "stream",
          "name": "stdout",
          "text": [
            "55 "
          ]
        }
      ]
    },
    {
      "cell_type": "markdown",
      "source": [
        "## 2. while迴圈"
      ],
      "metadata": {
        "id": "OpNVLhIPMm3F"
      }
    },
    {
      "cell_type": "markdown",
      "source": [
        "### **例題一** : 請用while迴圈寫出1加到10的總和(直接顯示結果)"
      ],
      "metadata": {
        "id": "F8VQnW1wMsDF"
      }
    },
    {
      "cell_type": "code",
      "source": [
        "i = 1\n",
        "total = 0\n",
        "\n",
        "while (i < 11):\n",
        "    total += i\n",
        "    i += 1\n",
        "\n",
        "print(total)"
      ],
      "metadata": {
        "colab": {
          "base_uri": "https://localhost:8080/"
        },
        "id": "Ip0frNpVNAqK",
        "outputId": "4e0dec9c-8c0c-4061-ca83-f1e2c186a0b7"
      },
      "execution_count": null,
      "outputs": [
        {
          "output_type": "stream",
          "name": "stdout",
          "text": [
            "55\n"
          ]
        }
      ]
    },
    {
      "cell_type": "markdown",
      "source": [
        "### **例題二** : 請用while迴圈寫出1加到10的奇數和(直接顯示結果)"
      ],
      "metadata": {
        "id": "VrElG-UbN5Yb"
      }
    },
    {
      "cell_type": "code",
      "source": [
        "i = 1\n",
        "total = 0\n",
        "\n",
        "while (i < 11):\n",
        "    total += i\n",
        "    i += 2\n",
        "\n",
        "print(total)"
      ],
      "metadata": {
        "colab": {
          "base_uri": "https://localhost:8080/"
        },
        "id": "Xs6T2Id5N8qP",
        "outputId": "44cb8e1c-f9d0-4f78-9df5-c88ccd9e7383"
      },
      "execution_count": null,
      "outputs": [
        {
          "output_type": "stream",
          "name": "stdout",
          "text": [
            "25\n"
          ]
        }
      ]
    },
    {
      "cell_type": "markdown",
      "source": [
        "### **例題三** : 請用while迴圈寫出1加到10的偶數和(直接顯示結果)"
      ],
      "metadata": {
        "id": "ueEUN_lWO4aU"
      }
    },
    {
      "cell_type": "code",
      "source": [
        "i = 2\n",
        "total = 0\n",
        "\n",
        "while (i < 11):\n",
        "    total += i\n",
        "    i += 2\n",
        "\n",
        "print(total)"
      ],
      "metadata": {
        "colab": {
          "base_uri": "https://localhost:8080/"
        },
        "id": "YMtGcT4-O8HD",
        "outputId": "79017189-86ce-4e87-83ab-03fa67c0e765"
      },
      "execution_count": null,
      "outputs": [
        {
          "output_type": "stream",
          "name": "stdout",
          "text": [
            "30\n"
          ]
        }
      ]
    },
    {
      "cell_type": "markdown",
      "source": [
        "## 3. break跳出(結束)迴圈"
      ],
      "metadata": {
        "id": "kZzLJL-UPQvY"
      }
    },
    {
      "cell_type": "code",
      "source": [
        "floors = [1,2,3,4,5,6,7,8,9,10]\n",
        "\n",
        "for i in floors:\n",
        "    if (i == 4):\n",
        "        break\n",
        "    print(i,end=\" \")"
      ],
      "metadata": {
        "colab": {
          "base_uri": "https://localhost:8080/"
        },
        "id": "rovL_doqP2nz",
        "outputId": "0b9ac0bf-fed3-4d78-eef1-f7d0db7f9c98"
      },
      "execution_count": null,
      "outputs": [
        {
          "output_type": "stream",
          "name": "stdout",
          "text": [
            "1 2 3 "
          ]
        }
      ]
    },
    {
      "cell_type": "markdown",
      "source": [
        "## 4. continue跳過該次(繼續)迴圈"
      ],
      "metadata": {
        "id": "RDxcvEisQkbg"
      }
    },
    {
      "cell_type": "code",
      "source": [
        "floors = [1,2,3,4,5,6,7,8,9,10]\n",
        "\n",
        "for i in floors:\n",
        "    if (i == 4):\n",
        "        continue\n",
        "    print(i,end=\" \")"
      ],
      "metadata": {
        "colab": {
          "base_uri": "https://localhost:8080/"
        },
        "id": "iUG1-CE7QwI9",
        "outputId": "2565eb98-867b-413f-a8a5-97f416725b95"
      },
      "execution_count": null,
      "outputs": [
        {
          "output_type": "stream",
          "name": "stdout",
          "text": [
            "1 2 3 5 6 7 8 9 10 "
          ]
        }
      ]
    }
  ]
}