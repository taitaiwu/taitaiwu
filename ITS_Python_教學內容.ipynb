{
  "cells": [
    {
      "cell_type": "markdown",
      "metadata": {
        "id": "view-in-github",
        "colab_type": "text"
      },
      "source": [
        "<a href=\"https://colab.research.google.com/github/taitaiwu/taitaiwu/blob/main/ITS_Python_%E6%95%99%E5%AD%B8%E5%85%A7%E5%AE%B9.ipynb\" target=\"_parent\"><img src=\"https://colab.research.google.com/assets/colab-badge.svg\" alt=\"Open In Colab\"/></a>"
      ]
    },
    {
      "cell_type": "markdown",
      "source": [
        "#**Mark Down 語法**\n",
        "\n",
        "# 一、標題系列\n",
        "\n",
        "# 標題一\n",
        "## 標題二\n",
        "### 標題三\n",
        "#### 標題四\n",
        "##### 標題五\n",
        "###### 標題六\n",
        "\n",
        "---\n",
        "\n",
        "# 二、項目符號與編號\n",
        "\n",
        "* 項目一\n",
        "* 項目二\n",
        "* 項目三\n",
        "\n",
        "1. 編號一\n",
        "2. 編號二\n",
        "3. 編號三\n",
        "\n",
        "---\n",
        "\n",
        "# 三、斜體、粗體、粗斜體\n",
        "\n",
        "\n",
        "* 斜體斜體*斜體*斜體斜體\n",
        "* 粗體粗體**粗體**粗體粗體\n",
        "* 粗斜體粗斜體***粗斜體***粗斜體粗斜體\n",
        "\n",
        "---\n",
        "\n",
        "# 四、刪除線\n",
        "\n",
        "* 刪除線刪除線~刪除線~刪除線刪除線\n",
        "\n",
        "---\n",
        "\n",
        "# 五、水平線\n",
        "\n",
        "* 三個減號 ---\n",
        "* 三個底線 ___\n",
        "* 三個星號 ***\n",
        "\n",
        "\n",
        "---\n",
        "\n",
        "# 六、行內註解\n",
        "\n",
        "* 行內註解行內註解`行內註解`行內註解行內註解\n",
        "\n",
        "---\n",
        "\n",
        "# 七、程式碼\n",
        "\n",
        "以下是一段 Python 程式碼，請參考\n",
        "\n",
        "```\n",
        "for i in range (1,10,1):\n",
        "  print(i,\"\\n\")\n",
        "```\n",
        "\n",
        "---\n",
        "\n",
        "# 八、左側直線\n",
        "\n",
        ">**小技巧標題**  \n",
        "小技巧小技巧小技巧小技巧小技巧小技巧小技巧小技巧小技巧小技巧小技巧小技巧小技巧小技巧小技巧小技巧小技巧小技巧小技巧小技巧小技巧小技巧小技巧小技巧小技巧小技巧小技巧小技巧小技巧小技巧小技巧小技巧小技巧小技巧小技巧小技巧小技巧小技巧小技巧小技巧小技巧小技巧小技巧小技巧小技巧小技巧小技巧小技巧小技巧小技巧小技巧小技巧小技巧小技巧小技巧小技巧小技巧小技巧小技巧小技巧小技巧小技巧小技巧小技巧小技巧小技巧小技巧小技巧小技巧小技巧小技巧小技巧小技巧小技巧小技巧小技巧\n",
        "\n",
        "---\n",
        "\n",
        "# 九、超連結系列\n",
        "\n",
        "* 直接超連結  \n",
        "https://youtube.com/\n",
        "\n",
        "* 文字超連結  \n",
        "[YouTube](https://youtube.com/)\n",
        "\n",
        "* 顯示網路圖片  \n",
        "![](data:image/png;base64,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)\n",
        "\n",
        "* 圖片超連結  \n",
        "[![](data:image/png;base64,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)](https://youtube.com/)\n",
        "\n",
        "* 圖片超連結 + 提示文字  \n",
        "[![](data:image/png;base64,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)](https://youtube.com/ '點我前往YouTube')\n",
        "\n",
        "---\n",
        "\n",
        "# 十、MakeDown 語法推薦網站\n",
        "\n",
        "* https://markdown.tw/"
      ],
      "metadata": {
        "id": "aEiCcAGnUsYJ"
      }
    },
    {
      "cell_type": "code",
      "execution_count": null,
      "metadata": {
        "id": "fucocLq9SpCi"
      },
      "outputs": [],
      "source": [
        "a=0\n",
        "\n",
        "for i in range (1,10,2):\n",
        "  print(i,end='/n')\n",
        "\n",
        "print(a)"
      ]
    }
  ],
  "metadata": {
    "colab": {
      "provenance": [],
      "authorship_tag": "ABX9TyNJFsYjVpxojVec/JBQg+JH",
      "include_colab_link": true
    },
    "kernelspec": {
      "display_name": "Python 3",
      "name": "python3"
    },
    "language_info": {
      "name": "python"
    }
  },
  "nbformat": 4,
  "nbformat_minor": 0
}